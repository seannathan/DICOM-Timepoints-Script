{
 "cells": [
  {
   "cell_type": "code",
   "execution_count": 22,
   "metadata": {
    "collapsed": true
   },
   "outputs": [],
   "source": [
    "import numpy as np \n",
    "import csv\n",
    "import sys, time, os\n",
    "import shutil\n",
    "\n",
    "onsetAJ2=np.loadtxt(r'aj2\\timepointsSentenceOne(aj2).csv',dtype=str,delimiter=',',skiprows=1,usecols=(4,)) #load onset and offset times into arrays for each participant\n",
    "offsetAJ2 = np.loadtxt(r'aj2\\timepointsSentenceOne(aj2).csv',dtype=str,delimiter=',',skiprows=1,usecols=(5,))\n",
    "onsetAT1=np.loadtxt(r'at1\\timepointsSentenceOne(at1).csv',dtype=str,delimiter=',',skiprows=1,usecols=(4,))\n",
    "offsetAT1 = np.loadtxt(r'at1\\timepointsSentenceOne(at1).csv',dtype=str,delimiter=',',skiprows=1,usecols=(5,))\n",
    "onsetHK2=np.loadtxt(r'hk2\\timepointsSentenceOne(hk2).csv',dtype=str,delimiter=',',skiprows=1,usecols=(4,))\n",
    "offsetHK2 = np.loadtxt(r'hk2\\timepointsSentenceOne(hk2).csv',dtype=str,delimiter=',',skiprows=1,usecols=(5,))\n",
    "onsetYM1=np.loadtxt(r'ym1\\timepointsSentenceOne(ym1).csv',dtype=str,delimiter=',',skiprows=1,usecols=(4,))\n",
    "offsetYM1 = np.loadtxt(r'ym1\\timepointsSentenceOne(ym1).csv',dtype=str,delimiter=',',skiprows=1,usecols=(5,))\n",
    "\n",
    "AJ2 = [onsetAJ2, offsetAJ2] #create participant arrays with their respective onset and offset lists\n",
    "AT1 = [onsetAT1, offsetAT1]\n",
    "HK2 = [onsetHK2, offsetHK2]\n",
    "YM1 = [onsetYM1, offsetYM1]\n",
    "\n",
    "participants = [AJ2, AT1, HK2, YM1] #create list of all participants containing onset and offset values\n",
    "participant_names = ['aj2', 'at1', 'hk2', 'ym1'] #create list of participant folder names in order\n",
    "dicom_names = ['lac05202018_19_51_55','lac05202018_17_06_10','lac06032018_19_39_38','lac06032018_17_32_07'] #create list of all dicom folder names in order "
   ]
  },
  {
   "cell_type": "code",
   "execution_count": 42,
   "metadata": {
    "collapsed": true
   },
   "outputs": [],
   "source": [
    "\n",
    "for j in range(0, len(participant_names)): #for each participant\n",
    "    currentParticipant = participant_names[j] #get current participant\n",
    "    count = 0 #set file count to 0\n",
    "    for x in range (0,11): #for each word\n",
    "        participant_path = os.path.join(participant_names[j],x) #create path for participant\n",
    "        if not os.path.isdir(participant_path) #if directory doesnt already exist\n",
    "            os.makedirs(participant_path) #create directory\n",
    "    for i in range(0,11): #for each word\n",
    "        mypath = os.path.join(currentParticipant,'dicom',dicom_names[j]) #generate path to the dicom files\n",
    "        onset = participants[j][0] #get onset times for current participant\n",
    "        offset = participants[j][1] #get offset times for current participant\n",
    "        moveDirectory = os.path.join(currentParticipant, str(i)) #generate path to directory files must be moved to\n",
    "        unusedDirectory = os.path.join(currentParticipant, 'unused') #generate path to a directory to send unused files (create folder if you don't have one in each participant folder)\n",
    "        files = os.listdir(mypath) #get all files from the intended path\n",
    "        for file in files: #for each file\n",
    "            if(count >= int(onset[i]) and count<int(offset[i])): #if file lies in the current onset and offset interval\n",
    "                newpath = os.path.join(mypath, file) #create new path with filename\n",
    "                shutil.move(newpath, moveDirectory) #move file to moveDirectory\n",
    "                count+=1 #increment\n",
    "            elif (count == int(offset[i])): #elif count == offset\n",
    "                newpath = os.path.join(mypath, file) #create path and move file\n",
    "                shutil.move(newpath, moveDirectory)\n",
    "                count+=1\n",
    "                break #break current loop to move to next set of onset and offset times\n",
    "            else:\n",
    "                newpath = os.path.join(mypath, file) #else files are unused and must be moved to unused directory\n",
    "                shutil.move(newpath, unusedDirectory)\n",
    "                count+=1                "
   ]
  },
  {
   "cell_type": "code",
   "execution_count": null,
   "metadata": {
    "collapsed": true
   },
   "outputs": [],
   "source": []
  }
 ],
 "metadata": {
  "kernelspec": {
   "display_name": "Python 3",
   "language": "python",
   "name": "python3"
  },
  "language_info": {
   "codemirror_mode": {
    "name": "ipython",
    "version": 3
   },
   "file_extension": ".py",
   "mimetype": "text/x-python",
   "name": "python",
   "nbconvert_exporter": "python",
   "pygments_lexer": "ipython3",
   "version": "3.6.3"
  }
 },
 "nbformat": 4,
 "nbformat_minor": 2
}
